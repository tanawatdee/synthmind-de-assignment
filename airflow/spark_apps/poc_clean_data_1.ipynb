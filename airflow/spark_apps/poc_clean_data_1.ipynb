{
 "cells": [
  {
   "cell_type": "code",
   "execution_count": 1,
   "id": "a5f7e95c-fc11-4a64-99a9-e70980c722bd",
   "metadata": {},
   "outputs": [],
   "source": [
    "import sys\n",
    "import argparse\n",
    "\n",
    "from pyspark.sql import SparkSession\n",
    "from pyspark.sql.functions import (\n",
    "    col, \n",
    "    substring,\n",
    "    lit,\n",
    "    trim,\n",
    "    replace,\n",
    "    translate\n",
    ")"
   ]
  },
  {
   "cell_type": "code",
   "execution_count": 2,
   "id": "f802c5d7-3755-40c7-8058-15279a94e60a",
   "metadata": {},
   "outputs": [],
   "source": [
    "execution_date = '2025-05-16'\n",
    "read_path  = f'../data/3_raw_news/01_set/{execution_date}'\n",
    "write_path = f'../data/4_clean_news/01_set/{execution_date}'"
   ]
  },
  {
   "cell_type": "code",
   "execution_count": 3,
   "id": "2b71800f-432e-4c64-8658-c89cf88897b1",
   "metadata": {},
   "outputs": [
    {
     "name": "stderr",
     "output_type": "stream",
     "text": [
      "Setting default log level to \"WARN\".\n",
      "To adjust logging level use sc.setLogLevel(newLevel). For SparkR, use setLogLevel(newLevel).\n",
      "25/05/16 21:01:58 WARN NativeCodeLoader: Unable to load native-hadoop library for your platform... using builtin-java classes where applicable\n"
     ]
    }
   ],
   "source": [
    "spark = (\n",
    "    SparkSession\n",
    "        .builder\n",
    "        .appName('POC Clean data 1')\n",
    "        .getOrCreate()\n",
    ")"
   ]
  },
  {
   "cell_type": "code",
   "execution_count": 5,
   "id": "1cb2c03f-c62f-4110-ab39-2be3d6deb912",
   "metadata": {},
   "outputs": [
    {
     "name": "stderr",
     "output_type": "stream",
     "text": [
      "                                                                                \r"
     ]
    },
    {
     "name": "stdout",
     "output_type": "stream",
     "text": [
      "+--------------------+--------------------+--------------------+\n",
      "|       news_datetime|          news_title|        news_content|\n",
      "+--------------------+--------------------+--------------------+\n",
      "|2025-05-06T19:05:...|คำอธิบายและวิเครา...|คำอธิบายและวิเครา...|\n",
      "|2025-05-06T17:53:...|การแต่งตั้งกรรมกา...|เปลี่ยนแปลงกรรมกา...|\n",
      "|2025-05-06T17:38:...|งบการเงิน ไตรมาสท...|                NULL|\n",
      "|2025-05-06T17:37:...|คำอธิบายและวิเครา...|คำอธิบายและวิเครา...|\n",
      "|2025-05-06T17:36:...|สรุปผลการดำเนินงา...|\\n               ...|\n",
      "+--------------------+--------------------+--------------------+\n",
      "\n"
     ]
    }
   ],
   "source": [
    "df = spark.read.options(header=True, multiLine=True, escape='\"').csv(read_path)\n",
    "df.show()"
   ]
  },
  {
   "cell_type": "code",
   "execution_count": 5,
   "id": "cf587427-791f-4845-9e2c-34c56283c011",
   "metadata": {},
   "outputs": [
    {
     "name": "stderr",
     "output_type": "stream",
     "text": [
      "[Stage 2:>                                                          (0 + 1) / 1]\r"
     ]
    },
    {
     "name": "stdout",
     "output_type": "stream",
     "text": [
      "+-------------+--------------------+--------------------+--------------+\n",
      "|news_datetime|          news_title|        news_content|execution_date|\n",
      "+-------------+--------------------+--------------------+--------------+\n",
      "|   2025-05-06|คำอธิบายและวิเครา...|\"คำอธิบายและวิเคร...|    2025-05-16|\n",
      "|  \"\\n2025-05-|                NULL|                NULL|    2025-05-16|\n",
      "|   สิ้นสุดวาร|                NULL|                NULL|    2025-05-16|\n",
      "|   2025-05-06|งบการเงิน ไตรมาสท...|                NULL|    2025-05-16|\n",
      "|   2025-05-06|คำอธิบายและวิเครา...|\"คำอธิบายและวิเคร...|    2025-05-16|\n",
      "|  \\n2025-05-0|                NULL|                NULL|    2025-05-16|\n",
      "|             |                 583|            526    8|    2025-05-16|\n",
      "+-------------+--------------------+--------------------+--------------+\n",
      "\n"
     ]
    },
    {
     "name": "stderr",
     "output_type": "stream",
     "text": [
      "                                                                                \r"
     ]
    }
   ],
   "source": [
    "df2 = df \\\n",
    " .withColumn('news_datetime',  substring('news_datetime', 1, 10)) \\\n",
    " .withColumn('news_content',   trim(translate('news_content', '\\n', ' '))) \\\n",
    " .withColumn('execution_date', lit(execution_date))\n",
    "\n",
    "df2.show()"
   ]
  },
  {
   "cell_type": "code",
   "execution_count": 6,
   "id": "96686d9a-f183-4953-b6be-0002b21364f5",
   "metadata": {},
   "outputs": [],
   "source": [
    "df2.write.mode(\"overwrite\").option(\"header\", True).csv(write_path)"
   ]
  },
  {
   "cell_type": "code",
   "execution_count": null,
   "id": "4d6ee49e-6b74-4805-83f7-481e6e4ae128",
   "metadata": {},
   "outputs": [],
   "source": []
  }
 ],
 "metadata": {
  "kernelspec": {
   "display_name": "Python 3 (ipykernel)",
   "language": "python",
   "name": "python3"
  },
  "language_info": {
   "codemirror_mode": {
    "name": "ipython",
    "version": 3
   },
   "file_extension": ".py",
   "mimetype": "text/x-python",
   "name": "python",
   "nbconvert_exporter": "python",
   "pygments_lexer": "ipython3",
   "version": "3.12.10"
  }
 },
 "nbformat": 4,
 "nbformat_minor": 5
}

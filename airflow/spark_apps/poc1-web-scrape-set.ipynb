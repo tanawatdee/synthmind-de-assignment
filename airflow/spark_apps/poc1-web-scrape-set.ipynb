{
 "cells": [
  {
   "cell_type": "code",
   "execution_count": 51,
   "id": "1f00e048-738c-435d-9cc3-2b728565ce5a",
   "metadata": {},
   "outputs": [],
   "source": [
    "from bs4 import BeautifulSoup\n",
    "import requests\n",
    "from datetime import datetime as dt\n",
    "from datetime import timedelta\n",
    "import os\n",
    "import json\n",
    "import csv"
   ]
  },
  {
   "cell_type": "code",
   "execution_count": 16,
   "id": "b7f95c79-e4b1-44e9-974e-b2434de87816",
   "metadata": {},
   "outputs": [],
   "source": [
    "now_bangkok = (dt.now() + timedelta(hours=7)).isoformat()[:19]\n",
    "ytd_bangkok = (dt.now() + timedelta(hours=7, days=-30)).isoformat()[:19]\n",
    "\n",
    "now_YYYY = now_bangkok[:4]\n",
    "now_mm   = now_bangkok[5:7]\n",
    "now_dd   = now_bangkok[8:10]\n",
    "\n",
    "ytd_YYYY = ytd_bangkok[:4]\n",
    "ytd_mm   = ytd_bangkok[5:7]\n",
    "ytd_dd   = ytd_bangkok[8:10]"
   ]
  },
  {
   "cell_type": "code",
   "execution_count": 17,
   "id": "b3c19664-aeef-450d-b462-6fd891715e7d",
   "metadata": {},
   "outputs": [],
   "source": [
    "stock = 'ADVANC'\n",
    "url   = f\"https://www.set.or.th/th/market/product/stock/quote/{stock}/news\"\n",
    "url2  = f\"https://www.set.or.th/api/set/news/search?symbol={stock}&fromDate={ytd_dd}%2F{ytd_mm}%2F{ytd_YYYY}&toDate={now_dd}%2F{now_mm}%2F{now_YYYY}&keyword=&lang=th\""
   ]
  },
  {
   "cell_type": "code",
   "execution_count": 18,
   "id": "b96f7e32-e7c8-422e-8366-adc4a53a034a",
   "metadata": {},
   "outputs": [
    {
     "data": {
      "text/plain": [
       "<requests.sessions.Session at 0xffff6c7998b0>"
      ]
     },
     "execution_count": 18,
     "metadata": {},
     "output_type": "execute_result"
    }
   ],
   "source": [
    "session = requests.Session()\n",
    "session.get(url)\n",
    "session"
   ]
  },
  {
   "cell_type": "code",
   "execution_count": 19,
   "id": "1d5f365c-06a1-4ad3-8a1c-5a619e4e0a23",
   "metadata": {},
   "outputs": [
    {
     "data": {
      "text/plain": [
       "<RequestsCookieJar[Cookie(version=0, name='charlot', value='b2cd1c28-9d6d-4120-af04-55ded12ac0fe', port=None, port_specified=False, domain='www.set.or.th', domain_specified=False, domain_initial_dot=False, path='/', path_specified=True, secure=False, expires=1747413250, discard=False, comment=None, comment_url=None, rest={}, rfc2109=False), Cookie(version=0, name='visid_incap_2046605', value='/28mMiv3SfCmaxklkpTTGoIXJmgAAAAAQUIPAAAAAABO0+mpt9XwEqSxS0ag9Tn8', port=None, port_specified=False, domain='.set.or.th', domain_specified=True, domain_initial_dot=True, path='/', path_specified=True, secure=False, expires=1778859270, discard=False, comment=None, comment_url=None, rest={'HttpOnly': None}, rfc2109=False), Cookie(version=0, name='nlbi_2046605', value='VVt2EFIHfBaqcE4DydyeTAAAAABTvitXY626cdszxi1sCIgf', port=None, port_specified=False, domain='.set.or.th', domain_specified=True, domain_initial_dot=True, path='/', path_specified=True, secure=False, expires=None, discard=True, comment=None, comment_url=None, rest={'HttpOnly': None}, rfc2109=False), Cookie(version=0, name='incap_ses_391_2046605', value='+CuLFC5iYwLVBSq+dBxtBYIXJmgAAAAA8R7lrO/ZDAeK8gpJ1zwOhg==', port=None, port_specified=False, domain='.set.or.th', domain_specified=True, domain_initial_dot=True, path='/', path_specified=True, secure=False, expires=None, discard=True, comment=None, comment_url=None, rest={}, rfc2109=False)]>"
      ]
     },
     "execution_count": 19,
     "metadata": {},
     "output_type": "execute_result"
    }
   ],
   "source": [
    "session.cookies"
   ]
  },
  {
   "cell_type": "code",
   "execution_count": 20,
   "id": "12c29778-a002-4110-9155-744e67c359ea",
   "metadata": {},
   "outputs": [
    {
     "data": {
      "text/plain": [
       "2"
      ]
     },
     "execution_count": 20,
     "metadata": {},
     "output_type": "execute_result"
    }
   ],
   "source": [
    "res = session.get(\n",
    "    url2,\n",
    "    headers={\n",
    "        'accept': 'application/json, text/plain, */*',\n",
    "        'accept-language': 'en-US,en;q=0.9',\n",
    "        'priority': 'u=1, i',\n",
    "        'referer': f'https://www.set.or.th/th/market/product/stock/quote/{stock}/news',\n",
    "    }\n",
    ")\n",
    "res_json = res.json()\n",
    "len(res_json)"
   ]
  },
  {
   "cell_type": "code",
   "execution_count": 21,
   "id": "1df73970-8f00-46e1-ba48-fcdaed036db7",
   "metadata": {},
   "outputs": [
    {
     "data": {
      "text/plain": [
       "{'totalCount': 5,\n",
       " 'newsInfoList': [{'id': '96155401',\n",
       "   'datetime': '2025-05-06T19:05:00+07:00',\n",
       "   'symbol': 'ADVANC',\n",
       "   'source': 'ADVANC',\n",
       "   'url': 'https://www.set.or.th/th/market/news-and-alert/newsdetails?id=96155401&symbol=ADVANC',\n",
       "   'headline': 'คำอธิบายและวิเคราะห์ของฝ่ายจัดการ ไตรมาสที่ 1 สิ้นสุดวันที่ 31 มี.ค. 2568 (แก้ไข ARPU)',\n",
       "   'isTodayNews': False,\n",
       "   'viewClarification': None,\n",
       "   'marketAlertTypeId': None,\n",
       "   'tag': '',\n",
       "   'percentPriceChange': None,\n",
       "   'product': 'S',\n",
       "   'lang': 'th'},\n",
       "  {'id': '96147401',\n",
       "   'datetime': '2025-05-06T17:53:00+07:00',\n",
       "   'symbol': 'ADVANC',\n",
       "   'source': 'ADVANC',\n",
       "   'url': 'https://www.set.or.th/th/market/news-and-alert/newsdetails?id=96147401&symbol=ADVANC',\n",
       "   'headline': 'การแต่งตั้งกรรมการแทนกรรมการที่ลาออก และการเปลี่ยนแปลงกรรมการในคณะกรรมการชุดย่อย',\n",
       "   'isTodayNews': False,\n",
       "   'viewClarification': None,\n",
       "   'marketAlertTypeId': None,\n",
       "   'tag': '',\n",
       "   'percentPriceChange': None,\n",
       "   'product': 'S',\n",
       "   'lang': 'th'},\n",
       "  {'id': '17464817060561',\n",
       "   'datetime': '2025-05-06T17:38:00+07:00',\n",
       "   'symbol': 'ADVANC',\n",
       "   'source': 'ADVANC',\n",
       "   'url': 'https://www.set.or.th/th/market/news-and-alert/newsdetails?id=17464817060561&symbol=ADVANC',\n",
       "   'headline': 'งบการเงิน ไตรมาสที่ 1/2568 (สอบทานแล้ว)',\n",
       "   'isTodayNews': False,\n",
       "   'viewClarification': None,\n",
       "   'marketAlertTypeId': None,\n",
       "   'tag': 'financial-statement',\n",
       "   'percentPriceChange': None,\n",
       "   'product': 'S',\n",
       "   'lang': 'th'},\n",
       "  {'id': '96143101',\n",
       "   'datetime': '2025-05-06T17:37:00+07:00',\n",
       "   'symbol': 'ADVANC',\n",
       "   'source': 'ADVANC',\n",
       "   'url': 'https://www.set.or.th/th/market/news-and-alert/newsdetails?id=96143101&symbol=ADVANC',\n",
       "   'headline': 'คำอธิบายและวิเคราะห์ของฝ่ายจัดการ ไตรมาสที่ 1 สิ้นสุดวันที่ 31 มี.ค. 2568',\n",
       "   'isTodayNews': False,\n",
       "   'viewClarification': None,\n",
       "   'marketAlertTypeId': None,\n",
       "   'tag': '',\n",
       "   'percentPriceChange': None,\n",
       "   'product': 'S',\n",
       "   'lang': 'th'},\n",
       "  {'id': '96143301',\n",
       "   'datetime': '2025-05-06T17:36:00+07:00',\n",
       "   'symbol': 'ADVANC',\n",
       "   'source': 'ADVANC',\n",
       "   'url': 'https://www.set.or.th/th/market/news-and-alert/newsdetails?id=96143301&symbol=ADVANC',\n",
       "   'headline': 'สรุปผลการดำเนินงานของ บจ. ไตรมาสที่ 1 (F45) (สอบทานแล้ว)',\n",
       "   'isTodayNews': False,\n",
       "   'viewClarification': None,\n",
       "   'marketAlertTypeId': None,\n",
       "   'tag': '',\n",
       "   'percentPriceChange': None,\n",
       "   'product': 'S',\n",
       "   'lang': 'th'}]}"
      ]
     },
     "execution_count": 21,
     "metadata": {},
     "output_type": "execute_result"
    }
   ],
   "source": [
    "res_json"
   ]
  },
  {
   "cell_type": "code",
   "execution_count": 50,
   "id": "1776750a-6c5d-4ccc-b96a-492571d6931f",
   "metadata": {},
   "outputs": [],
   "source": [
    "daily_dir_path_1 = f'../data/1_raw_response/01_set/{now_YYYY}-{now_mm}-{now_dd}'\n",
    "daily_dir_path_2 = f'../data/2_clean_response/01_set/{now_YYYY}-{now_mm}-{now_dd}'\n",
    "daily_dir_path_3 = f'../data/3_raw_news/01_set/{now_YYYY}-{now_mm}-{now_dd}'\n",
    "\n",
    "if not os.path.isdir(daily_dir_path_1):\n",
    "    os.makedirs(daily_dir_path_1)\n",
    "    \n",
    "if not os.path.isdir(daily_dir_path_2):\n",
    "    os.makedirs(daily_dir_path_2)\n",
    "    \n",
    "if not os.path.isdir(daily_dir_path_3):\n",
    "    os.makedirs(daily_dir_path_3)"
   ]
  },
  {
   "cell_type": "code",
   "execution_count": 52,
   "id": "fcb41f3b-2a09-420e-974e-4b19533d18ad",
   "metadata": {},
   "outputs": [
    {
     "name": "stdout",
     "output_type": "stream",
     "text": [
      "Success 00000.\n",
      "Success 00001.\n",
      "Success 00002.\n",
      "Success 00003.\n",
      "Success 00004.\n"
     ]
    }
   ],
   "source": [
    "for i_news, a_news in enumerate(res_json['newsInfoList']):\n",
    "    try:\n",
    "        res = requests.get(a_news['url'])\n",
    "        print(f'Success {i_news:05d}.')\n",
    "    except:\n",
    "        print(f'Fail to fetch url `{a_news['url']}`.')\n",
    "\n",
    "    with open(f'{daily_dir_path_1}/{i_news:05d}.json', 'w') as json_file:\n",
    "        json.dump(\n",
    "            {\n",
    "                \"original_req\": a_news,\n",
    "                \"status_code\": res.status_code,\n",
    "                \"text\": res.text,\n",
    "            }, \n",
    "            json_file\n",
    "        )"
   ]
  },
  {
   "cell_type": "markdown",
   "id": "fdedd638-1620-4f25-8bb7-f4a70d2b3b18",
   "metadata": {},
   "source": [
    "# Scrape news title, news content"
   ]
  },
  {
   "cell_type": "code",
   "execution_count": null,
   "id": "d8e8a648-c297-4405-a91d-548a16a5cbaa",
   "metadata": {},
   "outputs": [
    {
     "name": "stdout",
     "output_type": "stream",
     "text": [
      "Success 00000. คำอธิบายและวิเคราะห์ของฝ่ายจัดการ ไตรมาสที่ 1 สิ้นสุดวันที่ 31 มี.ค. 2568 (แก้ไข ARPU) - ตลาดหลักทรัพย์แห่งประเทศไทย\n",
      "Success 00001. การแต่งตั้งกรรมการแทนกรรมการที่ลาออก และการเปลี่ยนแปลงกรรมการในคณะกรรมการชุดย่อย - ตลาดหลักทรัพย์แห่งประเทศไทย\n",
      "Success 00002. งบการเงิน ไตรมาสที่ 1/2568 (สอบทานแล้ว) - ตลาดหลักทรัพย์แห่งประเทศไทย\n",
      "Success 00003. คำอธิบายและวิเคราะห์ของฝ่ายจัดการ ไตรมาสที่ 1 สิ้นสุดวันที่ 31 มี.ค. 2568 - ตลาดหลักทรัพย์แห่งประเทศไทย\n",
      "Success 00004. สรุปผลการดำเนินงานของ บจ. ไตรมาสที่ 1 (F45) (สอบทานแล้ว) - ตลาดหลักทรัพย์แห่งประเทศไทย\n"
     ]
    }
   ],
   "source": [
    "raw_news_data = []\n",
    "raw_news_fields = ['news_datetime', 'news_title', 'news_content']\n",
    "\n",
    "for i_news, a_news in enumerate(res_json['newsInfoList']):\n",
    "    with open(f'{daily_dir_path_1}/{i_news:05d}.json', 'r') as json_file:\n",
    "        try:\n",
    "            res = json.load(json_file)\n",
    "            res_text = res['text']\n",
    "\n",
    "            # print(res_text)\n",
    "\n",
    "            soup = BeautifulSoup(res_text)\n",
    "\n",
    "            news_datetime = res['original_req']['datetime']\n",
    "            news_title    = soup.title.string\n",
    "            news_content  = soup.select('.raw-html-new')[0].select(\".raw-html\")[0].string\n",
    "\n",
    "            a_news = {\n",
    "                \"news_datetime\": news_datetime,\n",
    "                \"news_title\":    news_title,\n",
    "                \"news_content\":  news_content,\n",
    "            }\n",
    "\n",
    "            raw_news_data.append(a_news)\n",
    "\n",
    "            with open(f'{daily_dir_path_2}/{i_news:05d}.json', 'w') as json_file:\n",
    "                json.dump(a_news, json_file)\n",
    "            \n",
    "            print(f'Success {i_news:05d}. {news_title}')\n",
    "        except:\n",
    "            print(f'Fail reading raw json `{a_news['url']}`.')\n",
    "\n",
    "with open(f'{daily_dir_path_3}/{i_news:05d}.csv', 'w', newline='') as csv_file:\n",
    "    writer = csv.DictWriter(csv_file, fieldnames=raw_news_fields)\n",
    "    writer.writeheader()\n",
    "    writer.writerows(raw_news_data)"
   ]
  },
  {
   "cell_type": "code",
   "execution_count": null,
   "id": "1233235f-70fe-4f40-934c-856fb2fe2bdf",
   "metadata": {},
   "outputs": [],
   "source": []
  },
  {
   "cell_type": "code",
   "execution_count": null,
   "id": "ce1ca269-04f9-44fc-b665-eae5dc5f5aea",
   "metadata": {},
   "outputs": [],
   "source": []
  }
 ],
 "metadata": {
  "kernelspec": {
   "display_name": "Python 3 (ipykernel)",
   "language": "python",
   "name": "python3"
  },
  "language_info": {
   "codemirror_mode": {
    "name": "ipython",
    "version": 3
   },
   "file_extension": ".py",
   "mimetype": "text/x-python",
   "name": "python",
   "nbconvert_exporter": "python",
   "pygments_lexer": "ipython3",
   "version": "3.12.10"
  }
 },
 "nbformat": 4,
 "nbformat_minor": 5
}
